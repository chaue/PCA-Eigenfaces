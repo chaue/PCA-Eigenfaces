{
 "cells": [
  {
   "cell_type": "code",
   "execution_count": 2,
   "metadata": {},
   "outputs": [],
   "source": [
    "import numpy as np\n",
    "import matplotlib.pyplot as plt"
   ]
  },
  {
   "cell_type": "code",
   "execution_count": 31,
   "metadata": {},
   "outputs": [],
   "source": [
    "data = np.genfromtxt('mnist_train.csv', delimiter=',')"
   ]
  },
  {
   "cell_type": "code",
   "execution_count": 40,
   "metadata": {},
   "outputs": [],
   "source": [
    "dim = 28\n",
    "labels = my_data[:,0]\n",
    "images = my_data[:,1:]\n",
    "\n",
    "def getnumdata(label):\n",
    "    numind = np.where(labels == label)\n",
    "    numdata = images[numind]\n",
    "    return(numdata)\n",
    "\n",
    "eightdata = getnumdata(8)\n",
    "numeight = len(eightdata[:, 0])\n",
    "numtotal = len(images[:, 0])"
   ]
  },
  {
   "cell_type": "code",
   "execution_count": 32,
   "metadata": {},
   "outputs": [],
   "source": [
    "# calculates average row\n",
    "def avg(array):\n",
    "    return(np.sum(array, axis=0) / len(array[:, 0]))"
   ]
  },
  {
   "cell_type": "code",
   "execution_count": 51,
   "metadata": {},
   "outputs": [],
   "source": [
    "def compress(dataset, avgset, dim):\n",
    "    datalen = len(dataset[:,0])\n",
    "    avg_data = avg(avgset)\n",
    "    dataset = dataset.T\n",
    "    \n",
    "    A = np.zeros((dim * dim, datalen), dtype=np.int16)\n",
    "    for i in np.arange(datalen):\n",
    "        A[:, i] = dataset[:, i].astype(np.int16) - avg_data.astype(np.int16)\n",
    "        A[:, i][A[:, i] < 0] = 0\n",
    "    A.astype(np.uint8)\n",
    "    \n",
    "    # covariance matrix\n",
    "    S = np.matmul(A.T.astype(float), A.astype(float))\n",
    "    # D is eigenvalues, V is eigenvectors\n",
    "    D, V = np.linalg.eig(S)\n",
    "    # sort D, and then sort V the same way to get the eigenvectors in descending order\n",
    "    order = D.argsort()[::-1]\n",
    "    V = V[:, order]\n",
    "\n",
    "    # normalize U for output\n",
    "    U = np.matmul(A.astype(float), V)\n",
    "    U = np.real(U)\n",
    "    squares = np.square(U)\n",
    "    denom = np.sqrt(np.sum(squares, axis=0))\n",
    "    for i in np.arange(datalen):\n",
    "        U[:, i] = U[:, i] / denom[i]\n",
    "    return([avg_data, U, dim])\n",
    "        \n",
    "def reconst(results, data, try_reconst, n_eig):\n",
    "    omegas = np.matmul(results[1][:, 1:n_eig].T, (data[:, try_reconst].astype(float)) - results[0])\n",
    "    res = np.matmul(results[1][:, 1:n_eig], omegas) + results[0].astype(float)\n",
    "\n",
    "    fig, axes = plt.subplots(1,2)\n",
    "    axes[0].imshow(np.reshape(data[:, try_reconst], (results[2], -1)), cmap='gray')\n",
    "    axes[1].imshow(np.reshape(res, (results[2], -1)), cmap='gray')"
   ]
  },
  {
   "cell_type": "code",
   "execution_count": 49,
   "metadata": {},
   "outputs": [],
   "source": [
    "var = compress(getnumdata(2), images, 28)"
   ]
  },
  {
   "cell_type": "code",
   "execution_count": 58,
   "metadata": {},
   "outputs": [
    {
     "ename": "ValueError",
     "evalue": "operands could not be broadcast together with shapes (5958,) (784,) ",
     "output_type": "error",
     "traceback": [
      "\u001b[1;31m---------------------------------------------------------------------------\u001b[0m",
      "\u001b[1;31mValueError\u001b[0m                                Traceback (most recent call last)",
      "\u001b[1;32m<ipython-input-58-f6365250c179>\u001b[0m in \u001b[0;36m<module>\u001b[1;34m\u001b[0m\n\u001b[1;32m----> 1\u001b[1;33m \u001b[0momegas\u001b[0m \u001b[1;33m=\u001b[0m \u001b[0mnp\u001b[0m\u001b[1;33m.\u001b[0m\u001b[0mmatmul\u001b[0m\u001b[1;33m(\u001b[0m\u001b[0mvar\u001b[0m\u001b[1;33m[\u001b[0m\u001b[1;36m1\u001b[0m\u001b[1;33m]\u001b[0m\u001b[1;33m[\u001b[0m\u001b[1;33m:\u001b[0m\u001b[1;33m,\u001b[0m \u001b[1;36m1\u001b[0m\u001b[1;33m:\u001b[0m\u001b[0mn_eig\u001b[0m\u001b[1;33m]\u001b[0m\u001b[1;33m.\u001b[0m\u001b[0mT\u001b[0m\u001b[1;33m,\u001b[0m \u001b[1;33m(\u001b[0m\u001b[0mgetnumdata\u001b[0m\u001b[1;33m(\u001b[0m\u001b[1;36m2\u001b[0m\u001b[1;33m)\u001b[0m\u001b[1;33m[\u001b[0m\u001b[1;33m:\u001b[0m\u001b[1;33m,\u001b[0m \u001b[0mtry_reconst\u001b[0m\u001b[1;33m]\u001b[0m\u001b[1;33m.\u001b[0m\u001b[0mastype\u001b[0m\u001b[1;33m(\u001b[0m\u001b[0mfloat\u001b[0m\u001b[1;33m)\u001b[0m\u001b[1;33m)\u001b[0m \u001b[1;33m-\u001b[0m \u001b[0mvar\u001b[0m\u001b[1;33m[\u001b[0m\u001b[1;36m0\u001b[0m\u001b[1;33m]\u001b[0m\u001b[1;33m)\u001b[0m\u001b[1;33m\u001b[0m\u001b[1;33m\u001b[0m\u001b[0m\n\u001b[0m",
      "\u001b[1;31mValueError\u001b[0m: operands could not be broadcast together with shapes (5958,) (784,) "
     ]
    }
   ],
   "source": [
    "omegas = np.matmul(var[1][:, 1:n_eig].T, (getnumdata(2)[:, try_reconst].astype(float)) - var[0])"
   ]
  },
  {
   "cell_type": "code",
   "execution_count": 56,
   "metadata": {},
   "outputs": [
    {
     "ename": "ValueError",
     "evalue": "operands could not be broadcast together with shapes (5958,) (784,) ",
     "output_type": "error",
     "traceback": [
      "\u001b[1;31m---------------------------------------------------------------------------\u001b[0m",
      "\u001b[1;31mValueError\u001b[0m                                Traceback (most recent call last)",
      "\u001b[1;32m<ipython-input-56-3007e8b6e9c6>\u001b[0m in \u001b[0;36m<module>\u001b[1;34m\u001b[0m\n\u001b[1;32m----> 1\u001b[1;33m \u001b[0mreconst\u001b[0m\u001b[1;33m(\u001b[0m\u001b[0mvar\u001b[0m\u001b[1;33m,\u001b[0m \u001b[0mgetnumdata\u001b[0m\u001b[1;33m(\u001b[0m\u001b[1;36m2\u001b[0m\u001b[1;33m)\u001b[0m\u001b[1;33m,\u001b[0m \u001b[1;36m0\u001b[0m\u001b[1;33m,\u001b[0m \u001b[1;36m10\u001b[0m\u001b[1;33m)\u001b[0m\u001b[1;33m\u001b[0m\u001b[1;33m\u001b[0m\u001b[0m\n\u001b[0m",
      "\u001b[1;32m<ipython-input-51-937dad54fbd0>\u001b[0m in \u001b[0;36mreconst\u001b[1;34m(results, data, try_reconst, n_eig)\u001b[0m\n\u001b[0;32m     28\u001b[0m \u001b[1;33m\u001b[0m\u001b[0m\n\u001b[0;32m     29\u001b[0m \u001b[1;32mdef\u001b[0m \u001b[0mreconst\u001b[0m\u001b[1;33m(\u001b[0m\u001b[0mresults\u001b[0m\u001b[1;33m,\u001b[0m \u001b[0mdata\u001b[0m\u001b[1;33m,\u001b[0m \u001b[0mtry_reconst\u001b[0m\u001b[1;33m,\u001b[0m \u001b[0mn_eig\u001b[0m\u001b[1;33m)\u001b[0m\u001b[1;33m:\u001b[0m\u001b[1;33m\u001b[0m\u001b[1;33m\u001b[0m\u001b[0m\n\u001b[1;32m---> 30\u001b[1;33m     \u001b[0momegas\u001b[0m \u001b[1;33m=\u001b[0m \u001b[0mnp\u001b[0m\u001b[1;33m.\u001b[0m\u001b[0mmatmul\u001b[0m\u001b[1;33m(\u001b[0m\u001b[0mresults\u001b[0m\u001b[1;33m[\u001b[0m\u001b[1;36m1\u001b[0m\u001b[1;33m]\u001b[0m\u001b[1;33m[\u001b[0m\u001b[1;33m:\u001b[0m\u001b[1;33m,\u001b[0m \u001b[1;36m1\u001b[0m\u001b[1;33m:\u001b[0m\u001b[0mn_eig\u001b[0m\u001b[1;33m]\u001b[0m\u001b[1;33m.\u001b[0m\u001b[0mT\u001b[0m\u001b[1;33m,\u001b[0m \u001b[1;33m(\u001b[0m\u001b[0mdata\u001b[0m\u001b[1;33m[\u001b[0m\u001b[1;33m:\u001b[0m\u001b[1;33m,\u001b[0m \u001b[0mtry_reconst\u001b[0m\u001b[1;33m]\u001b[0m\u001b[1;33m.\u001b[0m\u001b[0mastype\u001b[0m\u001b[1;33m(\u001b[0m\u001b[0mfloat\u001b[0m\u001b[1;33m)\u001b[0m\u001b[1;33m)\u001b[0m \u001b[1;33m-\u001b[0m \u001b[0mresults\u001b[0m\u001b[1;33m[\u001b[0m\u001b[1;36m0\u001b[0m\u001b[1;33m]\u001b[0m\u001b[1;33m)\u001b[0m\u001b[1;33m\u001b[0m\u001b[1;33m\u001b[0m\u001b[0m\n\u001b[0m\u001b[0;32m     31\u001b[0m     \u001b[0mres\u001b[0m \u001b[1;33m=\u001b[0m \u001b[0mnp\u001b[0m\u001b[1;33m.\u001b[0m\u001b[0mmatmul\u001b[0m\u001b[1;33m(\u001b[0m\u001b[0mresults\u001b[0m\u001b[1;33m[\u001b[0m\u001b[1;36m1\u001b[0m\u001b[1;33m]\u001b[0m\u001b[1;33m[\u001b[0m\u001b[1;33m:\u001b[0m\u001b[1;33m,\u001b[0m \u001b[1;36m1\u001b[0m\u001b[1;33m:\u001b[0m\u001b[0mn_eig\u001b[0m\u001b[1;33m]\u001b[0m\u001b[1;33m,\u001b[0m \u001b[0momegas\u001b[0m\u001b[1;33m)\u001b[0m \u001b[1;33m+\u001b[0m \u001b[0mresults\u001b[0m\u001b[1;33m[\u001b[0m\u001b[1;36m0\u001b[0m\u001b[1;33m]\u001b[0m\u001b[1;33m.\u001b[0m\u001b[0mastype\u001b[0m\u001b[1;33m(\u001b[0m\u001b[0mfloat\u001b[0m\u001b[1;33m)\u001b[0m\u001b[1;33m\u001b[0m\u001b[1;33m\u001b[0m\u001b[0m\n\u001b[0;32m     32\u001b[0m \u001b[1;33m\u001b[0m\u001b[0m\n",
      "\u001b[1;31mValueError\u001b[0m: operands could not be broadcast together with shapes (5958,) (784,) "
     ]
    }
   ],
   "source": [
    "reconst(var, getnumdata(2), 0, 10)"
   ]
  },
  {
   "cell_type": "code",
   "execution_count": 41,
   "metadata": {},
   "outputs": [
    {
     "data": {
      "text/plain": [
       "<matplotlib.image.AxesImage at 0x2a715b8e3c8>"
      ]
     },
     "execution_count": 41,
     "metadata": {},
     "output_type": "execute_result"
    },
    {
     "data": {
      "image/png": "[encoded data removed]",
      "text/plain": [
       "<Figure size 432x288 with 2 Axes>"
      ]
     },
     "metadata": {
      "needs_background": "light"
     },
     "output_type": "display_data"
    }
   ],
   "source": [
    "avg_all = avg(images)\n",
    "avg_eight = avg(eightdata)\n",
    "\n",
    "fig, axes = plt.subplots(1, 2)\n",
    "axes[0].imshow(np.reshape(avg_all, (dim, -1)), cmap='gray')\n",
    "axes[1].imshow(np.reshape(avg_eight, (dim, -1)), cmap='gray')"
   ]
  },
  {
   "cell_type": "code",
   "execution_count": 26,
   "metadata": {},
   "outputs": [
    {
     "data": {
      "image/png": "[encoded data removed]",
      "text/plain": [
       "<Figure size 432x288 with 6 Axes>"
      ]
     },
     "metadata": {
      "needs_background": "light"
     },
     "output_type": "display_data"
    }
   ],
   "source": [
    "# cast all to int16 and subtract each image vector from the average before taking the outer product\n",
    "eightdata = eightdata.T\n",
    "A = np.zeros((dim * dim, numeight), dtype=np.int16)\n",
    "for i in np.arange(numeight):\n",
    "    A[:, i] = eightdata[:, i].astype(np.int16) - avg_all.astype(np.int16)\n",
    "    A[:, i][A[:, i] < 0] = 0\n",
    "A.astype(np.uint8)"
   ]
  },
  {
   "cell_type": "code",
   "execution_count": 27,
   "metadata": {},
   "outputs": [],
   "source": [
    "# covariance matrix\n",
    "S = np.matmul(A.T.astype(float), A.astype(float))\n",
    "# D is eigenvalues, V is eigenvectors\n",
    "D, V = np.linalg.eig(S)\n",
    "# sort D, and then sort V the same way to get the eigenvectors in descending order\n",
    "order = D.argsort()[::-1]\n",
    "V = V[:, order]\n",
    "\n",
    "# normalize U for output\n",
    "U = np.matmul(A.astype(float), V)\n",
    "U = np.real(U)\n",
    "squares = np.square(U)\n",
    "denom = np.sqrt(np.sum(squares, axis=0))\n",
    "for i in np.arange(numeight):\n",
    "    U[:, i] = U[:, i] / denom[i]"
   ]
  },
  {
   "cell_type": "code",
   "execution_count": 30,
   "metadata": {},
   "outputs": [
    {
     "data": {
      "text/plain": [
       "<matplotlib.image.AxesImage at 0x2a70d62cc18>"
      ]
     },
     "execution_count": 30,
     "metadata": {},
     "output_type": "execute_result"
    },
    {
     "data": {
      "image/png": "[encoded data removed]",
      "text/plain": [
       "<Figure size 432x288 with 2 Axes>"
      ]
     },
     "metadata": {
      "needs_background": "light"
     },
     "output_type": "display_data"
    }
   ],
   "source": [
    "try_reconst = 50\n",
    "n_eig = 10\n",
    "omegas = np.matmul(U[:, 1:n_eig].T, (eightdata[:, try_reconst].astype(float)) - avg_all)\n",
    "res = np.matmul(U[:, 1:n_eig], omegas) + avg_all.astype(float)\n",
    "\n",
    "fig, axes = plt.subplots(1,2)\n",
    "axes[0].imshow(np.reshape(eightdata[:, try_reconst], (dim, -1)), cmap='gray')\n",
    "axes[1].imshow(np.reshape(res, (dim, -1)), cmap='gray')"
   ]
  },
  {
   "cell_type": "code",
   "execution_count": null,
   "metadata": {},
   "outputs": [],
   "source": []
  }
 ],
 "metadata": {
  "kernelspec": {
   "display_name": "Python 3",
   "language": "python",
   "name": "python3"
  },
  "language_info": {
   "codemirror_mode": {
    "name": "ipython",
    "version": 3
   },
   "file_extension": ".py",
   "mimetype": "text/x-python",
   "name": "python",
   "nbconvert_exporter": "python",
   "pygments_lexer": "ipython3",
   "version": "3.7.3"
  }
 },
 "nbformat": 4,
 "nbformat_minor": 2
}
