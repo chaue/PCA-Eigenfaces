{
 "cells": [
  {
   "cell_type": "markdown",
   "metadata": {},
   "source": [
    "# Applying PCA to MNIST Digit Images"
   ]
  },
  {
   "cell_type": "markdown",
   "metadata": {},
   "source": [
    "The PCA algorithm we will be using is the same one as the Eigenface notebook. "
   ]
  },
  {
   "cell_type": "code",
   "execution_count": 1,
   "metadata": {},
   "outputs": [],
   "source": [
    "import numpy as np\n",
    "import matplotlib.pyplot as plt"
   ]
  },
  {
   "cell_type": "code",
   "execution_count": 2,
   "metadata": {},
   "outputs": [],
   "source": [
    "data = np.genfromtxt('mnist_train.csv', delimiter=',')"
   ]
  },
  {
   "cell_type": "code",
   "execution_count": 3,
   "metadata": {},
   "outputs": [],
   "source": [
    "dim = 28\n",
    "labels = data[:,0]\n",
    "images = data[:,1:]\n",
    "\n",
    "def getnumdata(label):\n",
    "    numind = np.where(labels == label)\n",
    "    numdata = images[numind]\n",
    "    return(numdata)\n",
    "\n",
    "eightdata = getnumdata(8)\n",
    "numeight = len(eightdata[:, 0])\n",
    "numtotal = len(images[:, 0])"
   ]
  },
  {
   "cell_type": "code",
   "execution_count": 4,
   "metadata": {},
   "outputs": [],
   "source": [
    "# calculates average row\n",
    "def avg(array):\n",
    "    return(np.sum(array, axis=0) / len(array[:, 0]))"
   ]
  },
  {
   "cell_type": "code",
   "execution_count": 5,
   "metadata": {},
   "outputs": [],
   "source": [
    "def compress(dataset, avgset, dim):\n",
    "    datalen = len(dataset[:,0])\n",
    "    avg_data = avg(avgset)\n",
    "    dataset = dataset.T\n",
    "    \n",
    "    A = np.zeros((dim * dim, datalen), dtype=np.int16)\n",
    "    for i in np.arange(datalen):\n",
    "        A[:, i] = dataset[:, i].astype(np.int16) - avg_data.astype(np.int16)\n",
    "        A[:, i][A[:, i] < 0] = 0\n",
    "    A.astype(np.uint8)\n",
    "    \n",
    "    # covariance matrix\n",
    "    S = np.matmul(A.T.astype(float), A.astype(float))\n",
    "    # D is eigenvalues, V is eigenvectors\n",
    "    D, V = np.linalg.eig(S)\n",
    "    # sort D, and then sort V the same way to get the eigenvectors in descending order\n",
    "    order = D.argsort()[::-1]\n",
    "    V = V[:, order]\n",
    "\n",
    "    # normalize U for output\n",
    "    U = np.matmul(A.astype(float), V)\n",
    "    U = np.real(U)\n",
    "    squares = np.square(U)\n",
    "    denom = np.sqrt(np.sum(squares, axis=0))\n",
    "    for i in np.arange(datalen):\n",
    "        U[:, i] = U[:, i] / denom[i]\n",
    "    return([avg_data, U, dim])\n",
    "        \n",
    "def reconst(results, data, try_reconst, n_eig):\n",
    "    data = data.T\n",
    "    omegas = np.matmul(results[1][:, 1:n_eig].T, (data[:, try_reconst].astype(float)) - results[0])\n",
    "    res = np.matmul(results[1][:, 1:n_eig], omegas) + results[0].astype(float)\n",
    "\n",
    "    fig, axes = plt.subplots(1,2)\n",
    "    axes[0].imshow(np.reshape(data[:, try_reconst], (results[2], -1)), cmap='gray')\n",
    "    axes[1].imshow(np.reshape(res, (results[2], -1)), cmap='gray')"
   ]
  },
  {
   "cell_type": "code",
   "execution_count": 6,
   "metadata": {},
   "outputs": [],
   "source": [
    "var = compress(getnumdata(8), images, 28)"
   ]
  },
  {
   "cell_type": "code",
   "execution_count": 7,
   "metadata": {},
   "outputs": [
    {
     "data": {
      "image/png": "[encoded data removed]",
      "text/plain": [
       "<Figure size 432x288 with 2 Axes>"
      ]
     },
     "metadata": {
      "needs_background": "light"
     },
     "output_type": "display_data"
    }
   ],
   "source": [
    "reconst(var, getnumdata(8), 50, 10)"
   ]
  },
  {
   "cell_type": "markdown",
   "metadata": {},
   "source": [
    "This is a compression using the average of all the images for digits 0-9. We can compare this to using the average of just the digits 8."
   ]
  },
  {
   "cell_type": "code",
   "execution_count": 8,
   "metadata": {},
   "outputs": [],
   "source": [
    "var2 = compress(getnumdata(8), getnumdata(8), 28)"
   ]
  },
  {
   "cell_type": "code",
   "execution_count": 9,
   "metadata": {},
   "outputs": [
    {
     "data": {
      "image/png": "[encoded data removed]",
      "text/plain": [
       "<Figure size 432x288 with 2 Axes>"
      ]
     },
     "metadata": {
      "needs_background": "light"
     },
     "output_type": "display_data"
    }
   ],
   "source": [
    "reconst(var2, getnumdata(8), 50, 10)"
   ]
  },
  {
   "cell_type": "markdown",
   "metadata": {},
   "source": [
    "The compressions are pretty similar, surprisingly. We can see why if we take a look at the two averages."
   ]
  },
  {
   "cell_type": "code",
   "execution_count": 10,
   "metadata": {},
   "outputs": [
    {
     "data": {
      "text/plain": [
       "<matplotlib.image.AxesImage at 0x218911fc518>"
      ]
     },
     "execution_count": 10,
     "metadata": {},
     "output_type": "execute_result"
    },
    {
     "data": {
      "image/png": "[encoded data removed]",
      "text/plain": [
       "<Figure size 432x288 with 2 Axes>"
      ]
     },
     "metadata": {
      "needs_background": "light"
     },
     "output_type": "display_data"
    }
   ],
   "source": [
    "fig, axes = plt.subplots(1,2)\n",
    "axes[0].imshow(np.reshape(avg(images), (28, -1)), cmap='gray')\n",
    "axes[1].imshow(np.reshape(avg(getnumdata(8)), (28, -1)), cmap='gray')"
   ]
  },
  {
   "cell_type": "markdown",
   "metadata": {},
   "source": [
    "It seems the average for all the images actually resembles an 8, which makes sense as the number 8 shares contours with most of the other numbers. Perhaps compressing a different digit, like the digit 2, would be more interesting."
   ]
  },
  {
   "cell_type": "code",
   "execution_count": 11,
   "metadata": {},
   "outputs": [],
   "source": [
    "var3 = compress(getnumdata(2), images, 28)"
   ]
  },
  {
   "cell_type": "code",
   "execution_count": 12,
   "metadata": {},
   "outputs": [
    {
     "data": {
      "image/png": "[encoded data removed]",
      "text/plain": [
       "<Figure size 432x288 with 2 Axes>"
      ]
     },
     "metadata": {
      "needs_background": "light"
     },
     "output_type": "display_data"
    }
   ],
   "source": [
    "reconst(var3, getnumdata(2), 50, 10)"
   ]
  },
  {
   "cell_type": "code",
   "execution_count": 13,
   "metadata": {},
   "outputs": [],
   "source": [
    "var4 = compress(getnumdata(2), getnumdata(2), 28)"
   ]
  },
  {
   "cell_type": "code",
   "execution_count": 14,
   "metadata": {},
   "outputs": [
    {
     "data": {
      "image/png": "[encoded data removed]",
      "text/plain": [
       "<Figure size 432x288 with 2 Axes>"
      ]
     },
     "metadata": {
      "needs_background": "light"
     },
     "output_type": "display_data"
    }
   ],
   "source": [
    "reconst(var4, getnumdata(2), 50, 10)"
   ]
  },
  {
   "cell_type": "markdown",
   "metadata": {},
   "source": [
    "It turns out the digit 8 might have been an exception, as PCA using the average of all images does not compress as well for 2 as it does when using the average of just 2s. "
   ]
  }
 ],
 "metadata": {
  "kernelspec": {
   "display_name": "Python 3",
   "language": "python",
   "name": "python3"
  },
  "language_info": {
   "codemirror_mode": {
    "name": "ipython",
    "version": 3
   },
   "file_extension": ".py",
   "mimetype": "text/x-python",
   "name": "python",
   "nbconvert_exporter": "python",
   "pygments_lexer": "ipython3",
   "version": "3.7.3"
  }
 },
 "nbformat": 4,
 "nbformat_minor": 2
}
